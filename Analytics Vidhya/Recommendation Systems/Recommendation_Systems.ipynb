{
 "cells": [
  {
   "cell_type": "code",
   "execution_count": 4,
   "metadata": {
    "colab": {},
    "colab_type": "code",
    "id": "nNU5dDgHOzlG"
   },
   "outputs": [],
   "source": [
    "import pandas as pd\n",
    "import numpy as np\n",
    "import turicreate"
   ]
  },
  {
   "cell_type": "code",
   "execution_count": 5,
   "metadata": {
    "colab": {},
    "colab_type": "code",
    "id": "dcwNN8BoO-bJ"
   },
   "outputs": [],
   "source": [
    "train=pd.read_csv(\"/content/drive/My Drive/hackathons/Al recommendation/train.csv\")\n",
    "test=pd.read_csv(\"/content/drive/My Drive/hackathons/Al recommendation/test.csv\")\n",
    "challenge=pd.read_csv(\"/content/drive/My Drive/hackathons/Al recommendation/challenge_data.csv\")"
   ]
  },
  {
   "cell_type": "code",
   "execution_count": 16,
   "metadata": {
    "colab": {},
    "colab_type": "code",
    "id": "9bXWHEMzMj9D"
   },
   "outputs": [],
   "source": [
    "submit=pd.read_csv(\"/content/drive/My Drive/hackathons/Al recommendation/sample_submission_J0OjXLi_DDt3uQN.csv\")"
   ]
  },
  {
   "cell_type": "code",
   "execution_count": 6,
   "metadata": {
    "colab": {},
    "colab_type": "code",
    "id": "uguxUl4BqpSc"
   },
   "outputs": [],
   "source": [
    "data_train=train[train[\"challenge_sequence\"]<11]"
   ]
  },
  {
   "cell_type": "code",
   "execution_count": 7,
   "metadata": {
    "colab": {},
    "colab_type": "code",
    "id": "WKMjX99YIOcT"
   },
   "outputs": [],
   "source": [
    "concated_df=pd.concat([data_train[[\"user_id\",\"challenge\"]],test[[\"user_id\",\"challenge\"]]])"
   ]
  },
  {
   "cell_type": "code",
   "execution_count": null,
   "metadata": {
    "colab": {},
    "colab_type": "code",
    "id": "a_faXgnLIRfH"
   },
   "outputs": [],
   "source": [
    "n_users = concated_df.user_id.nunique()\n",
    "n_challenges = concated_df.challenge.nunique()"
   ]
  },
  {
   "cell_type": "code",
   "execution_count": 6,
   "metadata": {
    "colab": {
     "base_uri": "https://localhost:8080/",
     "height": 35
    },
    "colab_type": "code",
    "id": "Py1-Ja-LIbcW",
    "outputId": "774c3a84-f27f-4e06-d883-eb47e5b39998"
   },
   "outputs": [
    {
     "data": {
      "text/plain": [
       "(109264, 5239)"
      ]
     },
     "execution_count": 6,
     "metadata": {
      "tags": []
     },
     "output_type": "execute_result"
    }
   ],
   "source": [
    "n_users,n_challenges"
   ]
  },
  {
   "cell_type": "code",
   "execution_count": 10,
   "metadata": {
    "colab": {
     "base_uri": "https://localhost:8080/",
     "height": 199
    },
    "colab_type": "code",
    "id": "vaGOD2niId-b",
    "outputId": "a2b944e0-11be-4112-b9e7-78febbfb1653"
   },
   "outputs": [
    {
     "name": "stdout",
     "output_type": "stream",
     "text": [
      "4576\n",
      "Pandas(Index=0, user_id=4576, challenge='CI23714')\n",
      "4576\n",
      "Pandas(Index=1, user_id=4576, challenge='CI23855')\n",
      "4576\n",
      "Pandas(Index=2, user_id=4576, challenge='CI24917')\n",
      "4576\n",
      "Pandas(Index=3, user_id=4576, challenge='CI23663')\n",
      "4576\n",
      "Pandas(Index=4, user_id=4576, challenge='CI23933')\n"
     ]
    }
   ],
   "source": [
    "data_matrix = np.zeros((n_users, n_challenges))\n",
    "for line in concated_df.iloc[:5,].itertuples():\n",
    "    #data_matrix[line[1]-1, line[2]-1] = line[3]\n",
    "    print(line[1])\n",
    "    print(line)"
   ]
  },
  {
   "cell_type": "code",
   "execution_count": 9,
   "metadata": {
    "colab": {},
    "colab_type": "code",
    "id": "nF_Kef4wLYp7"
   },
   "outputs": [],
   "source": [
    "data = turicreate.SFrame(concated_df)"
   ]
  },
  {
   "cell_type": "code",
   "execution_count": 14,
   "metadata": {
    "colab": {
     "base_uri": "https://localhost:8080/",
     "height": 1000
    },
    "colab_type": "code",
    "id": "2fW5ud5lJOEr",
    "outputId": "d9894ea6-b608-4a8b-c4da-c58f3a6fc467"
   },
   "outputs": [
    {
     "data": {
      "text/html": [
       "<pre>Preparing data set.</pre>"
      ],
      "text/plain": [
       "Preparing data set."
      ]
     },
     "metadata": {
      "tags": []
     },
     "output_type": "display_data"
    },
    {
     "data": {
      "text/html": [
       "<pre>    Data has 1092640 observations with 109264 users and 5239 items.</pre>"
      ],
      "text/plain": [
       "    Data has 1092640 observations with 109264 users and 5239 items."
      ]
     },
     "metadata": {
      "tags": []
     },
     "output_type": "display_data"
    },
    {
     "data": {
      "text/html": [
       "<pre>    Data prepared in: 1.0131s</pre>"
      ],
      "text/plain": [
       "    Data prepared in: 1.0131s"
      ]
     },
     "metadata": {
      "tags": []
     },
     "output_type": "display_data"
    },
    {
     "data": {
      "text/html": [
       "<pre>Training model from provided data.</pre>"
      ],
      "text/plain": [
       "Training model from provided data."
      ]
     },
     "metadata": {
      "tags": []
     },
     "output_type": "display_data"
    },
    {
     "data": {
      "text/html": [
       "<pre>Gathering per-item and per-user statistics.</pre>"
      ],
      "text/plain": [
       "Gathering per-item and per-user statistics."
      ]
     },
     "metadata": {
      "tags": []
     },
     "output_type": "display_data"
    },
    {
     "data": {
      "text/html": [
       "<pre>+--------------------------------+------------+</pre>"
      ],
      "text/plain": [
       "+--------------------------------+------------+"
      ]
     },
     "metadata": {
      "tags": []
     },
     "output_type": "display_data"
    },
    {
     "data": {
      "text/html": [
       "<pre>| Elapsed Time (Item Statistics) | % Complete |</pre>"
      ],
      "text/plain": [
       "| Elapsed Time (Item Statistics) | % Complete |"
      ]
     },
     "metadata": {
      "tags": []
     },
     "output_type": "display_data"
    },
    {
     "data": {
      "text/html": [
       "<pre>+--------------------------------+------------+</pre>"
      ],
      "text/plain": [
       "+--------------------------------+------------+"
      ]
     },
     "metadata": {
      "tags": []
     },
     "output_type": "display_data"
    },
    {
     "data": {
      "text/html": [
       "<pre>| 1.115ms                        | 0.75       |</pre>"
      ],
      "text/plain": [
       "| 1.115ms                        | 0.75       |"
      ]
     },
     "metadata": {
      "tags": []
     },
     "output_type": "display_data"
    },
    {
     "data": {
      "text/html": [
       "<pre>| 62.035ms                       | 100        |</pre>"
      ],
      "text/plain": [
       "| 62.035ms                       | 100        |"
      ]
     },
     "metadata": {
      "tags": []
     },
     "output_type": "display_data"
    },
    {
     "data": {
      "text/html": [
       "<pre>+--------------------------------+------------+</pre>"
      ],
      "text/plain": [
       "+--------------------------------+------------+"
      ]
     },
     "metadata": {
      "tags": []
     },
     "output_type": "display_data"
    },
    {
     "data": {
      "text/html": [
       "<pre>Setting up lookup tables.</pre>"
      ],
      "text/plain": [
       "Setting up lookup tables."
      ]
     },
     "metadata": {
      "tags": []
     },
     "output_type": "display_data"
    },
    {
     "data": {
      "text/html": [
       "<pre>Processing data in one pass using dense lookup tables.</pre>"
      ],
      "text/plain": [
       "Processing data in one pass using dense lookup tables."
      ]
     },
     "metadata": {
      "tags": []
     },
     "output_type": "display_data"
    },
    {
     "data": {
      "text/html": [
       "<pre>+-------------------------------------+------------------+-----------------+</pre>"
      ],
      "text/plain": [
       "+-------------------------------------+------------------+-----------------+"
      ]
     },
     "metadata": {
      "tags": []
     },
     "output_type": "display_data"
    },
    {
     "data": {
      "text/html": [
       "<pre>| Elapsed Time (Constructing Lookups) | Total % Complete | Items Processed |</pre>"
      ],
      "text/plain": [
       "| Elapsed Time (Constructing Lookups) | Total % Complete | Items Processed |"
      ]
     },
     "metadata": {
      "tags": []
     },
     "output_type": "display_data"
    },
    {
     "data": {
      "text/html": [
       "<pre>+-------------------------------------+------------------+-----------------+</pre>"
      ],
      "text/plain": [
       "+-------------------------------------+------------------+-----------------+"
      ]
     },
     "metadata": {
      "tags": []
     },
     "output_type": "display_data"
    },
    {
     "data": {
      "text/html": [
       "<pre>| 93.014ms                            | 0                | 0               |</pre>"
      ],
      "text/plain": [
       "| 93.014ms                            | 0                | 0               |"
      ]
     },
     "metadata": {
      "tags": []
     },
     "output_type": "display_data"
    },
    {
     "data": {
      "text/html": [
       "<pre>| 506.658ms                           | 100              | 5239            |</pre>"
      ],
      "text/plain": [
       "| 506.658ms                           | 100              | 5239            |"
      ]
     },
     "metadata": {
      "tags": []
     },
     "output_type": "display_data"
    },
    {
     "data": {
      "text/html": [
       "<pre>+-------------------------------------+------------------+-----------------+</pre>"
      ],
      "text/plain": [
       "+-------------------------------------+------------------+-----------------+"
      ]
     },
     "metadata": {
      "tags": []
     },
     "output_type": "display_data"
    },
    {
     "data": {
      "text/html": [
       "<pre>Finalizing lookup tables.</pre>"
      ],
      "text/plain": [
       "Finalizing lookup tables."
      ]
     },
     "metadata": {
      "tags": []
     },
     "output_type": "display_data"
    },
    {
     "data": {
      "text/html": [
       "<pre>Generating candidate set for working with new users.</pre>"
      ],
      "text/plain": [
       "Generating candidate set for working with new users."
      ]
     },
     "metadata": {
      "tags": []
     },
     "output_type": "display_data"
    },
    {
     "data": {
      "text/html": [
       "<pre>Finished training in 0.59176s</pre>"
      ],
      "text/plain": [
       "Finished training in 0.59176s"
      ]
     },
     "metadata": {
      "tags": []
     },
     "output_type": "display_data"
    },
    {
     "data": {
      "text/html": [
       "<pre>recommendations finished on 1000/39732 queries. users per second: 16893.9</pre>"
      ],
      "text/plain": [
       "recommendations finished on 1000/39732 queries. users per second: 16893.9"
      ]
     },
     "metadata": {
      "tags": []
     },
     "output_type": "display_data"
    },
    {
     "data": {
      "text/html": [
       "<pre>recommendations finished on 2000/39732 queries. users per second: 15920.4</pre>"
      ],
      "text/plain": [
       "recommendations finished on 2000/39732 queries. users per second: 15920.4"
      ]
     },
     "metadata": {
      "tags": []
     },
     "output_type": "display_data"
    },
    {
     "data": {
      "text/html": [
       "<pre>recommendations finished on 3000/39732 queries. users per second: 15971.3</pre>"
      ],
      "text/plain": [
       "recommendations finished on 3000/39732 queries. users per second: 15971.3"
      ]
     },
     "metadata": {
      "tags": []
     },
     "output_type": "display_data"
    },
    {
     "data": {
      "text/html": [
       "<pre>recommendations finished on 4000/39732 queries. users per second: 15579.9</pre>"
      ],
      "text/plain": [
       "recommendations finished on 4000/39732 queries. users per second: 15579.9"
      ]
     },
     "metadata": {
      "tags": []
     },
     "output_type": "display_data"
    },
    {
     "data": {
      "text/html": [
       "<pre>recommendations finished on 5000/39732 queries. users per second: 15641.8</pre>"
      ],
      "text/plain": [
       "recommendations finished on 5000/39732 queries. users per second: 15641.8"
      ]
     },
     "metadata": {
      "tags": []
     },
     "output_type": "display_data"
    },
    {
     "data": {
      "text/html": [
       "<pre>recommendations finished on 6000/39732 queries. users per second: 15684.4</pre>"
      ],
      "text/plain": [
       "recommendations finished on 6000/39732 queries. users per second: 15684.4"
      ]
     },
     "metadata": {
      "tags": []
     },
     "output_type": "display_data"
    },
    {
     "data": {
      "text/html": [
       "<pre>recommendations finished on 7000/39732 queries. users per second: 15595.6</pre>"
      ],
      "text/plain": [
       "recommendations finished on 7000/39732 queries. users per second: 15595.6"
      ]
     },
     "metadata": {
      "tags": []
     },
     "output_type": "display_data"
    },
    {
     "data": {
      "text/html": [
       "<pre>recommendations finished on 8000/39732 queries. users per second: 15617.1</pre>"
      ],
      "text/plain": [
       "recommendations finished on 8000/39732 queries. users per second: 15617.1"
      ]
     },
     "metadata": {
      "tags": []
     },
     "output_type": "display_data"
    },
    {
     "data": {
      "text/html": [
       "<pre>recommendations finished on 9000/39732 queries. users per second: 15560.4</pre>"
      ],
      "text/plain": [
       "recommendations finished on 9000/39732 queries. users per second: 15560.4"
      ]
     },
     "metadata": {
      "tags": []
     },
     "output_type": "display_data"
    },
    {
     "data": {
      "text/html": [
       "<pre>recommendations finished on 10000/39732 queries. users per second: 15600.8</pre>"
      ],
      "text/plain": [
       "recommendations finished on 10000/39732 queries. users per second: 15600.8"
      ]
     },
     "metadata": {
      "tags": []
     },
     "output_type": "display_data"
    },
    {
     "data": {
      "text/html": [
       "<pre>recommendations finished on 11000/39732 queries. users per second: 15615.8</pre>"
      ],
      "text/plain": [
       "recommendations finished on 11000/39732 queries. users per second: 15615.8"
      ]
     },
     "metadata": {
      "tags": []
     },
     "output_type": "display_data"
    },
    {
     "data": {
      "text/html": [
       "<pre>recommendations finished on 12000/39732 queries. users per second: 15611.3</pre>"
      ],
      "text/plain": [
       "recommendations finished on 12000/39732 queries. users per second: 15611.3"
      ]
     },
     "metadata": {
      "tags": []
     },
     "output_type": "display_data"
    },
    {
     "data": {
      "text/html": [
       "<pre>recommendations finished on 13000/39732 queries. users per second: 15592.2</pre>"
      ],
      "text/plain": [
       "recommendations finished on 13000/39732 queries. users per second: 15592.2"
      ]
     },
     "metadata": {
      "tags": []
     },
     "output_type": "display_data"
    },
    {
     "data": {
      "text/html": [
       "<pre>recommendations finished on 14000/39732 queries. users per second: 15594.2</pre>"
      ],
      "text/plain": [
       "recommendations finished on 14000/39732 queries. users per second: 15594.2"
      ]
     },
     "metadata": {
      "tags": []
     },
     "output_type": "display_data"
    },
    {
     "data": {
      "text/html": [
       "<pre>recommendations finished on 15000/39732 queries. users per second: 15536.9</pre>"
      ],
      "text/plain": [
       "recommendations finished on 15000/39732 queries. users per second: 15536.9"
      ]
     },
     "metadata": {
      "tags": []
     },
     "output_type": "display_data"
    },
    {
     "data": {
      "text/html": [
       "<pre>recommendations finished on 16000/39732 queries. users per second: 15503.6</pre>"
      ],
      "text/plain": [
       "recommendations finished on 16000/39732 queries. users per second: 15503.6"
      ]
     },
     "metadata": {
      "tags": []
     },
     "output_type": "display_data"
    },
    {
     "data": {
      "text/html": [
       "<pre>recommendations finished on 17000/39732 queries. users per second: 15520.8</pre>"
      ],
      "text/plain": [
       "recommendations finished on 17000/39732 queries. users per second: 15520.8"
      ]
     },
     "metadata": {
      "tags": []
     },
     "output_type": "display_data"
    },
    {
     "data": {
      "text/html": [
       "<pre>recommendations finished on 18000/39732 queries. users per second: 15519.4</pre>"
      ],
      "text/plain": [
       "recommendations finished on 18000/39732 queries. users per second: 15519.4"
      ]
     },
     "metadata": {
      "tags": []
     },
     "output_type": "display_data"
    },
    {
     "data": {
      "text/html": [
       "<pre>recommendations finished on 19000/39732 queries. users per second: 15503.4</pre>"
      ],
      "text/plain": [
       "recommendations finished on 19000/39732 queries. users per second: 15503.4"
      ]
     },
     "metadata": {
      "tags": []
     },
     "output_type": "display_data"
    },
    {
     "data": {
      "text/html": [
       "<pre>recommendations finished on 20000/39732 queries. users per second: 15484.9</pre>"
      ],
      "text/plain": [
       "recommendations finished on 20000/39732 queries. users per second: 15484.9"
      ]
     },
     "metadata": {
      "tags": []
     },
     "output_type": "display_data"
    },
    {
     "data": {
      "text/html": [
       "<pre>recommendations finished on 21000/39732 queries. users per second: 15497.8</pre>"
      ],
      "text/plain": [
       "recommendations finished on 21000/39732 queries. users per second: 15497.8"
      ]
     },
     "metadata": {
      "tags": []
     },
     "output_type": "display_data"
    },
    {
     "data": {
      "text/html": [
       "<pre>recommendations finished on 22000/39732 queries. users per second: 15505</pre>"
      ],
      "text/plain": [
       "recommendations finished on 22000/39732 queries. users per second: 15505"
      ]
     },
     "metadata": {
      "tags": []
     },
     "output_type": "display_data"
    },
    {
     "data": {
      "text/html": [
       "<pre>recommendations finished on 23000/39732 queries. users per second: 15509.3</pre>"
      ],
      "text/plain": [
       "recommendations finished on 23000/39732 queries. users per second: 15509.3"
      ]
     },
     "metadata": {
      "tags": []
     },
     "output_type": "display_data"
    },
    {
     "data": {
      "text/html": [
       "<pre>recommendations finished on 24000/39732 queries. users per second: 15479.5</pre>"
      ],
      "text/plain": [
       "recommendations finished on 24000/39732 queries. users per second: 15479.5"
      ]
     },
     "metadata": {
      "tags": []
     },
     "output_type": "display_data"
    },
    {
     "data": {
      "text/html": [
       "<pre>recommendations finished on 25000/39732 queries. users per second: 15495.2</pre>"
      ],
      "text/plain": [
       "recommendations finished on 25000/39732 queries. users per second: 15495.2"
      ]
     },
     "metadata": {
      "tags": []
     },
     "output_type": "display_data"
    },
    {
     "data": {
      "text/html": [
       "<pre>recommendations finished on 26000/39732 queries. users per second: 15498.2</pre>"
      ],
      "text/plain": [
       "recommendations finished on 26000/39732 queries. users per second: 15498.2"
      ]
     },
     "metadata": {
      "tags": []
     },
     "output_type": "display_data"
    },
    {
     "data": {
      "text/html": [
       "<pre>recommendations finished on 27000/39732 queries. users per second: 15510.2</pre>"
      ],
      "text/plain": [
       "recommendations finished on 27000/39732 queries. users per second: 15510.2"
      ]
     },
     "metadata": {
      "tags": []
     },
     "output_type": "display_data"
    },
    {
     "data": {
      "text/html": [
       "<pre>recommendations finished on 28000/39732 queries. users per second: 15515.1</pre>"
      ],
      "text/plain": [
       "recommendations finished on 28000/39732 queries. users per second: 15515.1"
      ]
     },
     "metadata": {
      "tags": []
     },
     "output_type": "display_data"
    },
    {
     "data": {
      "text/html": [
       "<pre>recommendations finished on 29000/39732 queries. users per second: 15523.3</pre>"
      ],
      "text/plain": [
       "recommendations finished on 29000/39732 queries. users per second: 15523.3"
      ]
     },
     "metadata": {
      "tags": []
     },
     "output_type": "display_data"
    },
    {
     "data": {
      "text/html": [
       "<pre>recommendations finished on 30000/39732 queries. users per second: 15534.3</pre>"
      ],
      "text/plain": [
       "recommendations finished on 30000/39732 queries. users per second: 15534.3"
      ]
     },
     "metadata": {
      "tags": []
     },
     "output_type": "display_data"
    },
    {
     "data": {
      "text/html": [
       "<pre>recommendations finished on 31000/39732 queries. users per second: 15538.9</pre>"
      ],
      "text/plain": [
       "recommendations finished on 31000/39732 queries. users per second: 15538.9"
      ]
     },
     "metadata": {
      "tags": []
     },
     "output_type": "display_data"
    },
    {
     "data": {
      "text/html": [
       "<pre>recommendations finished on 32000/39732 queries. users per second: 15504.2</pre>"
      ],
      "text/plain": [
       "recommendations finished on 32000/39732 queries. users per second: 15504.2"
      ]
     },
     "metadata": {
      "tags": []
     },
     "output_type": "display_data"
    },
    {
     "data": {
      "text/html": [
       "<pre>recommendations finished on 33000/39732 queries. users per second: 15479</pre>"
      ],
      "text/plain": [
       "recommendations finished on 33000/39732 queries. users per second: 15479"
      ]
     },
     "metadata": {
      "tags": []
     },
     "output_type": "display_data"
    },
    {
     "data": {
      "text/html": [
       "<pre>recommendations finished on 34000/39732 queries. users per second: 15490.9</pre>"
      ],
      "text/plain": [
       "recommendations finished on 34000/39732 queries. users per second: 15490.9"
      ]
     },
     "metadata": {
      "tags": []
     },
     "output_type": "display_data"
    },
    {
     "data": {
      "text/html": [
       "<pre>recommendations finished on 35000/39732 queries. users per second: 15461.8</pre>"
      ],
      "text/plain": [
       "recommendations finished on 35000/39732 queries. users per second: 15461.8"
      ]
     },
     "metadata": {
      "tags": []
     },
     "output_type": "display_data"
    },
    {
     "data": {
      "text/html": [
       "<pre>recommendations finished on 36000/39732 queries. users per second: 15473.9</pre>"
      ],
      "text/plain": [
       "recommendations finished on 36000/39732 queries. users per second: 15473.9"
      ]
     },
     "metadata": {
      "tags": []
     },
     "output_type": "display_data"
    },
    {
     "data": {
      "text/html": [
       "<pre>recommendations finished on 37000/39732 queries. users per second: 15476.7</pre>"
      ],
      "text/plain": [
       "recommendations finished on 37000/39732 queries. users per second: 15476.7"
      ]
     },
     "metadata": {
      "tags": []
     },
     "output_type": "display_data"
    },
    {
     "data": {
      "text/html": [
       "<pre>recommendations finished on 38000/39732 queries. users per second: 15489.4</pre>"
      ],
      "text/plain": [
       "recommendations finished on 38000/39732 queries. users per second: 15489.4"
      ]
     },
     "metadata": {
      "tags": []
     },
     "output_type": "display_data"
    },
    {
     "data": {
      "text/html": [
       "<pre>recommendations finished on 39000/39732 queries. users per second: 15497.3</pre>"
      ],
      "text/plain": [
       "recommendations finished on 39000/39732 queries. users per second: 15497.3"
      ]
     },
     "metadata": {
      "tags": []
     },
     "output_type": "display_data"
    }
   ],
   "source": [
    "item_sim_model = turicreate.item_similarity_recommender.create(data, user_id='user_id', item_id='challenge', similarity_type='cosine')\n",
    "\n",
    "#Making recommendations\n",
    "item_sim_recomm = item_sim_model.recommend(users=test[\"user_id\"].unique(),k=3)"
   ]
  },
  {
   "cell_type": "code",
   "execution_count": 17,
   "metadata": {
    "colab": {},
    "colab_type": "code",
    "id": "RWWogEobKsiJ"
   },
   "outputs": [],
   "source": [
    "recommened_df=item_sim_recomm.to_dataframe()"
   ]
  },
  {
   "cell_type": "code",
   "execution_count": 19,
   "metadata": {
    "colab": {
     "base_uri": "https://localhost:8080/",
     "height": 198
    },
    "colab_type": "code",
    "id": "14fynvKgM1vm",
    "outputId": "f0642f07-3adb-49ed-b950-733a3240f7f8"
   },
   "outputs": [
    {
     "data": {
      "text/html": [
       "<div>\n",
       "<style scoped>\n",
       "    .dataframe tbody tr th:only-of-type {\n",
       "        vertical-align: middle;\n",
       "    }\n",
       "\n",
       "    .dataframe tbody tr th {\n",
       "        vertical-align: top;\n",
       "    }\n",
       "\n",
       "    .dataframe thead th {\n",
       "        text-align: right;\n",
       "    }\n",
       "</style>\n",
       "<table border=\"1\" class=\"dataframe\">\n",
       "  <thead>\n",
       "    <tr style=\"text-align: right;\">\n",
       "      <th></th>\n",
       "      <th>user_id</th>\n",
       "      <th>challenge</th>\n",
       "      <th>score</th>\n",
       "      <th>rank</th>\n",
       "    </tr>\n",
       "  </thead>\n",
       "  <tbody>\n",
       "    <tr>\n",
       "      <th>0</th>\n",
       "      <td>4577</td>\n",
       "      <td>CI26051</td>\n",
       "      <td>0.133401</td>\n",
       "      <td>1</td>\n",
       "    </tr>\n",
       "    <tr>\n",
       "      <th>1</th>\n",
       "      <td>4577</td>\n",
       "      <td>CI23848</td>\n",
       "      <td>0.132068</td>\n",
       "      <td>2</td>\n",
       "    </tr>\n",
       "    <tr>\n",
       "      <th>2</th>\n",
       "      <td>4577</td>\n",
       "      <td>CI23975</td>\n",
       "      <td>0.131535</td>\n",
       "      <td>3</td>\n",
       "    </tr>\n",
       "    <tr>\n",
       "      <th>3</th>\n",
       "      <td>4578</td>\n",
       "      <td>CI24530</td>\n",
       "      <td>0.142361</td>\n",
       "      <td>1</td>\n",
       "    </tr>\n",
       "    <tr>\n",
       "      <th>4</th>\n",
       "      <td>4578</td>\n",
       "      <td>CI23848</td>\n",
       "      <td>0.138885</td>\n",
       "      <td>2</td>\n",
       "    </tr>\n",
       "  </tbody>\n",
       "</table>\n",
       "</div>"
      ],
      "text/plain": [
       "   user_id challenge     score  rank\n",
       "0     4577   CI26051  0.133401     1\n",
       "1     4577   CI23848  0.132068     2\n",
       "2     4577   CI23975  0.131535     3\n",
       "3     4578   CI24530  0.142361     1\n",
       "4     4578   CI23848  0.138885     2"
      ]
     },
     "execution_count": 19,
     "metadata": {
      "tags": []
     },
     "output_type": "execute_result"
    }
   ],
   "source": [
    "recommened_df.head()"
   ]
  },
  {
   "cell_type": "code",
   "execution_count": 20,
   "metadata": {
    "colab": {},
    "colab_type": "code",
    "id": "_2eNyoboLp-c"
   },
   "outputs": [],
   "source": [
    "submit[\"challenge\"]=recommened_df[\"challenge\"]"
   ]
  },
  {
   "cell_type": "code",
   "execution_count": 21,
   "metadata": {
    "colab": {},
    "colab_type": "code",
    "id": "XNRBURaXMxwX"
   },
   "outputs": [],
   "source": [
    "from google.colab import files"
   ]
  },
  {
   "cell_type": "code",
   "execution_count": 22,
   "metadata": {
    "colab": {},
    "colab_type": "code",
    "id": "qCbnkphlNB2d"
   },
   "outputs": [],
   "source": [
    "submit.to_csv(\"submit2.csv\",index=False)"
   ]
  },
  {
   "cell_type": "code",
   "execution_count": 23,
   "metadata": {
    "colab": {
     "base_uri": "https://localhost:8080/",
     "height": 17
    },
    "colab_type": "code",
    "id": "AEYRYZ_bNGtj",
    "outputId": "5e494cf4-b595-4aeb-f0ab-2fbce738ba51"
   },
   "outputs": [
    {
     "data": {
      "application/javascript": [
       "\n",
       "    async function download(id, filename, size) {\n",
       "      if (!google.colab.kernel.accessAllowed) {\n",
       "        return;\n",
       "      }\n",
       "      const div = document.createElement('div');\n",
       "      const label = document.createElement('label');\n",
       "      label.textContent = `Downloading \"${filename}\": `;\n",
       "      div.appendChild(label);\n",
       "      const progress = document.createElement('progress');\n",
       "      progress.max = size;\n",
       "      div.appendChild(progress);\n",
       "      document.body.appendChild(div);\n",
       "\n",
       "      const buffers = [];\n",
       "      let downloaded = 0;\n",
       "\n",
       "      const channel = await google.colab.kernel.comms.open(id);\n",
       "      // Send a message to notify the kernel that we're ready.\n",
       "      channel.send({})\n",
       "\n",
       "      for await (const message of channel.messages) {\n",
       "        // Send a message to notify the kernel that we're ready.\n",
       "        channel.send({})\n",
       "        if (message.buffers) {\n",
       "          for (const buffer of message.buffers) {\n",
       "            buffers.push(buffer);\n",
       "            downloaded += buffer.byteLength;\n",
       "            progress.value = downloaded;\n",
       "          }\n",
       "        }\n",
       "      }\n",
       "      const blob = new Blob(buffers, {type: 'application/binary'});\n",
       "      const a = document.createElement('a');\n",
       "      a.href = window.URL.createObjectURL(blob);\n",
       "      a.download = filename;\n",
       "      div.appendChild(a);\n",
       "      a.click();\n",
       "      div.remove();\n",
       "    }\n",
       "  "
      ],
      "text/plain": [
       "<IPython.core.display.Javascript object>"
      ]
     },
     "metadata": {
      "tags": []
     },
     "output_type": "display_data"
    },
    {
     "data": {
      "application/javascript": [
       "download(\"download_9e0a4418-9a06-4fa1-abbf-cee3c437b186\", \"submit2.csv\", 2035365)"
      ],
      "text/plain": [
       "<IPython.core.display.Javascript object>"
      ]
     },
     "metadata": {
      "tags": []
     },
     "output_type": "display_data"
    }
   ],
   "source": [
    "files.download(\"submit2.csv\")"
   ]
  }
 ],
 "metadata": {
  "colab": {
   "name": "al script.ipynb",
   "provenance": []
  },
  "kernelspec": {
   "display_name": "Python 3",
   "language": "python",
   "name": "python3"
  },
  "language_info": {
   "codemirror_mode": {
    "name": "ipython",
    "version": 3
   },
   "file_extension": ".py",
   "mimetype": "text/x-python",
   "name": "python",
   "nbconvert_exporter": "python",
   "pygments_lexer": "ipython3",
   "version": "3.7.3"
  }
 },
 "nbformat": 4,
 "nbformat_minor": 1
}
